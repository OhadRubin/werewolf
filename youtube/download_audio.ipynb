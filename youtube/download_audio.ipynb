{
 "cells": [
  {
   "cell_type": "code",
   "execution_count": 179,
   "metadata": {},
   "outputs": [
    {
     "name": "stderr",
     "output_type": "stream",
     "text": [
      "[nltk_data] Downloading package punkt_tab to /Users/ohadr/nltk_data...\n",
      "[nltk_data]   Package punkt_tab is already up-to-date!\n"
     ]
    },
    {
     "data": {
      "text/plain": [
       "True"
      ]
     },
     "execution_count": 179,
     "metadata": {},
     "output_type": "execute_result"
    }
   ],
   "source": [
    "import nltk\n",
    "import json\n",
    "import glob\n",
    "import re\n",
    "from moviepy.editor import VideoFileClip\n",
    "import json\n",
    "import os\n",
    "import copy\n",
    "import nltk\n",
    "\n",
    "nltk.download(\"punkt_tab\")"
   ]
  },
  {
   "cell_type": "code",
   "execution_count": 180,
   "metadata": {},
   "outputs": [],
   "source": [
    "import datasets"
   ]
  },
  {
   "cell_type": "code",
   "execution_count": null,
   "metadata": {},
   "outputs": [],
   "source": [
    "datasets.Audio"
   ]
  },
  {
   "cell_type": "code",
   "execution_count": 175,
   "metadata": {},
   "outputs": [],
   "source": [
    "\n",
    "\n",
    "def sanitize(x):\n",
    "    for punc in [\"：\",\"，\",\"｜\",\"  \",\" \",\"#\"]:\n",
    "        x = x.replace(punc, \" \").strip()\n",
    "    x = x.replace(\"  \", \" \").strip()\n",
    "    x = re.sub(r'[^a-zA-Z0-9\\s]', '', x)\n",
    "    return x.strip()\n",
    "\n",
    "\n",
    "def align_file_names_and_video_names(dataset_dir, downloaded_glob):\n",
    "    with open(f\"{dataset_dir}/youtube_urls_released.json\", \"r\") as f:\n",
    "        youtube_urls = json.load(f)\n",
    "    existing_files = glob.glob(downloaded_glob)\n",
    "    urls = list(youtube_urls.values())\n",
    "    missing_urls = []\n",
    "    for url in urls:\n",
    "        if any(url in existing_file for existing_file in existing_files):\n",
    "            continue\n",
    "        missing_urls.append(url)\n",
    "\n",
    "    video_names = []\n",
    "    for split in [\"train\", \"val\", \"test\"]:\n",
    "        data_file = f\"{dataset_dir}/split/{split}.json\"\n",
    "        with open(data_file, \"r\") as f:\n",
    "            data = json.load(f)\n",
    "        video_names.extend(list({datum[\"video_name\"] for datum in data}))\n",
    "\n",
    "    video_names = list(set(video_names))\n",
    "    file_names = [(sanitize(x.split(\"/\")[-1].split(\"[\")[0].strip()),x) for x in existing_files]\n",
    "    video_names = [(sanitize(x), x) for x in video_names]\n",
    "    file_names = sorted(file_names, key=lambda x:x[0])\n",
    "    video_names = sorted(video_names, key= lambda x:x[0])\n",
    "    mapping = {}\n",
    "    for game_id,((f,old_f),(g,old_g)) in enumerate(zip(file_names, video_names)):\n",
    "        assert f==g, f\"{f} != {g}\"\n",
    "        mapping[old_g] = (game_id,  old_f)\n",
    "    return mapping\n",
    "\n",
    "\n",
    "def timestamp_to_seconds(timestamp):\n",
    "    h, m, s = map(int, timestamp.split(\":\"))\n",
    "    return h * 3600 + m * 60 + s\n",
    "\n",
    "\n",
    "mapping = align_file_names_and_video_names(dataset_dir=\"/Users/ohadr/Werewolf/youtube\",\n",
    "                                           downloaded_glob=\"/Volumes/4TB/werewolf/raw_files/*\")\n",
    "\n",
    "folder = \"/Volumes/4TB/werewolf/saved_games\"\n",
    "for split in [\"train\", \"val\", \"test\"]:\n",
    "    with open(f\"/Users/ohadr/Werewolf/youtube/split/{split}.json\", \"r\") as f:\n",
    "        games = json.load(f)\n",
    "        for datum in games:\n",
    "            file_idx, video_name = mapping[datum[\"video_name\"]]\n",
    "            output_filename = f\"{folder}/file_{file_idx}_{datum['Game_ID']}_clip.mp3\"  # Using Game_ID from metadata\n",
    "            if os.path.exists(output_filename):\n",
    "                continue\n",
    "\n",
    "            start_seconds = timestamp_to_seconds(datum[\"startTime\"])\n",
    "            end_seconds = timestamp_to_seconds(datum[\"endTime\"])\n",
    "\n",
    "            # Load video and extract audio segment\n",
    "            video = VideoFileClip(video_name)\n",
    "            video_segment = video.subclip(start_seconds, end_seconds)\n",
    "\n",
    "            # Extract audio segment\n",
    "            audio = video.audio.subclip(start_seconds, end_seconds)\n",
    "\n",
    "            # Save audio segment\n",
    "            audio.write_audiofile(output_filename)\n",
    "\n",
    "            # Clean up\n",
    "            video.close()\n",
    "\n",
    "\n",
    "def get_player_start_roles(datum):\n",
    "    players = datum[\"playerNames\"]\n",
    "    start_roles = datum[\"startRoles\"]\n",
    "    return dict(zip(players, start_roles))\n",
    "\n",
    "\n",
    "def get_player_end_roles(datum):\n",
    "    players = datum[\"playerNames\"]\n",
    "    end_roles = datum[\"endRoles\"]\n",
    "    return dict(zip(players, end_roles))\n",
    "\n",
    "\n",
    "def get_duration_seconds(start_time, end_time):\n",
    "    start_parts = start_time.split(\":\")\n",
    "    end_parts = end_time.split(\":\")\n",
    "\n",
    "    if len(start_parts) == 3:\n",
    "        start_hr, start_min, start_sec = start_parts\n",
    "        start_total = int(start_hr) * 3600 + int(start_min) * 60 + int(start_sec)\n",
    "    else:\n",
    "        start_min, start_sec = start_parts\n",
    "        start_total = int(start_min) * 60 + int(start_sec)\n",
    "\n",
    "    if len(end_parts) == 3:\n",
    "        end_hr, end_min, end_sec = end_parts\n",
    "        end_total = int(end_hr) * 3600 + int(end_min) * 60 + int(end_sec)\n",
    "    else:\n",
    "        end_min, end_sec = end_parts\n",
    "        end_total = int(end_min) * 60 + int(end_sec)\n",
    "\n",
    "    return end_total - start_total\n",
    "\n",
    "\n",
    "def parse_timestamp(timestamp):\n",
    "    min, sec = timestamp.split(\":\")\n",
    "    return int(min) * 60 + int(sec)\n",
    "\n",
    "\n",
    "def add_endtimes(datum):\n",
    "    dialogue = datum[\"Dialogue\"]\n",
    "    new_dialogue = []\n",
    "    final_time = get_duration_seconds(datum[\"startTime\"], datum[\"endTime\"])\n",
    "    start_roles = get_player_start_roles(datum)\n",
    "    end_roles = get_player_end_roles(datum)\n",
    "\n",
    "    for i in range(len(dialogue) - 1):\n",
    "        curr = copy.deepcopy(dialogue[i])\n",
    "        curr[\"start_time_in_seconds\"] = parse_timestamp(dialogue[i][\"timestamp\"])\n",
    "        next_time = parse_timestamp(dialogue[i + 1][\"timestamp\"])\n",
    "        curr[\"end_time_in_seconds\"] = min(next_time + 3, final_time)\n",
    "        curr.pop(\"Rec_Id\")\n",
    "        curr.pop(\"timestamp\")\n",
    "        curr[\"target\"] = \", \".join(curr[\"annotation\"])\n",
    "        curr.pop(\"annotation\")\n",
    "        curr[\"start_role\"] = start_roles.get(curr[\"speaker\"], \"unknown\")\n",
    "        curr[\"end_role\"] = end_roles.get(curr[\"speaker\"], \"unknown\")\n",
    "\n",
    "        new_dialogue.append(curr)\n",
    "\n",
    "    # Handle last utterance\n",
    "    last = copy.deepcopy(dialogue[-1])\n",
    "    last[\"start_time_in_seconds\"] = parse_timestamp(last[\"timestamp\"])\n",
    "    last[\"end_time_in_seconds\"] = final_time\n",
    "    new_dialogue.append(last)\n",
    "\n",
    "    return new_dialogue\n",
    "\n",
    "\n",
    "import json\n",
    "\n",
    "final_data = {}\n",
    "for split in [\"train\", \"val\", \"test\"]:\n",
    "    with open(f\"/Users/ohadr/Werewolf/youtube/split/{split}.json\", \"r\") as f:\n",
    "        data = json.load(f)\n",
    "    for datum in data:\n",
    "        datum[\"Dialogue\"] = add_endtimes(datum)\n",
    "        file_idx, video_name = mapping[datum[\"video_name\"]]\n",
    "        datum[\"file_name\"] = f\"file_{file_idx}_{datum['Game_ID']}_clip.mp3\"\n",
    "    final_data[split] = data\n",
    "\n",
    "# Save mapping to JSON file\n",
    "with open(\"/Volumes/4TB/werewolf/saved_games/mapping.json\", \"w\") as f:\n",
    "    json.dump(mapping, f, indent=4)"
   ]
  },
  {
   "cell_type": "code",
   "execution_count": 185,
   "metadata": {},
   "outputs": [],
   "source": [
    "dialogues = datum[\"Dialogue\"]"
   ]
  },
  {
   "cell_type": "code",
   "execution_count": 194,
   "metadata": {},
   "outputs": [],
   "source": [
    "import io\n",
    "from pydub import AudioSegment\n",
    "\n",
    "\n",
    "def utterence_to_audio_snippet(start_time_in_seconds, end_time_in_seconds, audio):\n",
    "    start_ms = start_time_in_seconds * 1000\n",
    "    end_ms = end_time_in_seconds * 1000\n",
    "\n",
    "    # Extract the audio segment\n",
    "    snippet = audio[start_ms:end_ms].set_frame_rate(24000).set_channels(1)\n",
    "    audio_buffer = io.BytesIO()\n",
    "    snippet.export(audio_buffer, format=\"wav\")\n",
    "    return audio_buffer.getvalue()\n",
    "\n",
    "\n",
    "def construct_audio_segment_and_transcript(dialogues, idx, K=10):\n",
    "    curr = dialogues[idx]\n",
    "    start, end = curr[\"start_time_in_seconds\"], curr[\"end_time_in_seconds\"]\n",
    "    utterances = [curr]\n",
    "\n",
    "    if start == 0 or idx == 0:\n",
    "        return start, end, utterances\n",
    "\n",
    "    # Add the previous utterances that start within K second window\n",
    "    prev_idx = idx - 1\n",
    "    while prev_idx >= 0:\n",
    "        prev = dialogues[prev_idx]\n",
    "        if prev[\"start_time_in_seconds\"] < min(start - K, 0):\n",
    "            break\n",
    "        utterances = [prev] + utterances\n",
    "        prev_idx -= 1\n",
    "\n",
    "    start = max(0, start - K)  # Start 10 seconds before current utterance\n",
    "    return start, end, copy.deepcopy(utterances)\n",
    "\n",
    "def construct_spans(datum, K=10):\n",
    "    dialogues = datum[\"Dialogue\"]\n",
    "    span_list = []\n",
    "    for i in range(len(dialogues)):\n",
    "        start, end, utterances = construct_audio_segment_and_transcript(\n",
    "            dialogues, i, K=K\n",
    "        )\n",
    "        span_list.append((start, end, utterances))\n",
    "    return span_list\n",
    "\n",
    "\n",
    "def dialog_to_audio_list(datum, folder):\n",
    "    audio_file = datum[\"file_name\"]\n",
    "    audio = AudioSegment.from_file(f\"{folder}/{audio_file}\")\n",
    "    dialogue_data = []\n",
    "    for start,end, utterances in construct_spans(datum):\n",
    "        audio_data = utterence_to_audio_snippet(start, end, audio)\n",
    "        dialogue_data.append((audio_data, utterances))\n",
    "\n",
    "    return dialogue_data"
   ]
  },
  {
   "cell_type": "code",
   "execution_count": 195,
   "metadata": {},
   "outputs": [],
   "source": [
    "dialogue_data = dialog_to_audio_list(datum, folder=\"/Volumes/4TB/werewolf/saved_games\")"
   ]
  },
  {
   "cell_type": "code",
   "execution_count": 202,
   "metadata": {},
   "outputs": [],
   "source": [
    "s = dialogue_data[0]"
   ]
  },
  {
   "cell_type": "code",
   "execution_count": 203,
   "metadata": {},
   "outputs": [
    {
     "data": {
      "text/plain": [
       "[{'speaker': 'Mitchell',\n",
       "  'utterance': 'What is that?',\n",
       "  'start_time_in_seconds': 3,\n",
       "  'end_time_in_seconds': 35,\n",
       "  'target': 'No Strategy',\n",
       "  'start_role': 'Seer',\n",
       "  'end_role': 'Seer'}]"
      ]
     },
     "execution_count": 203,
     "metadata": {},
     "output_type": "execute_result"
    }
   ],
   "source": [
    "s[1]"
   ]
  },
  {
   "cell_type": "code",
   "execution_count": null,
   "metadata": {},
   "outputs": [],
   "source": [
    "dialogue_data[]"
   ]
  },
  {
   "cell_type": "code",
   "execution_count": null,
   "metadata": {},
   "outputs": [],
   "source": [
    "def format_dialogue_entry(entry):\n",
    "    \"\"\"Format a dialogue entry dictionary in a readable way.\"\"\"\n",
    "    return (\n",
    "        f\"Speaker: {entry['speaker']}\\n\"\n",
    "        f\"Utterance: {entry['utterance']}\\n\"\n",
    "        f\"Time: {entry['start_time_in_seconds']}s - {entry['end_time_in_seconds']}s\\n\"\n",
    "        f\"Target: {entry['target']}\\n\"\n",
    "        f\"Role Change: {entry['start_role']} -> {entry['end_role']}\"\n",
    "    )"
   ]
  }
 ],
 "metadata": {
  "kernelspec": {
   "display_name": "Python 3",
   "language": "python",
   "name": "python3"
  },
  "language_info": {
   "codemirror_mode": {
    "name": "ipython",
    "version": 3
   },
   "file_extension": ".py",
   "mimetype": "text/x-python",
   "name": "python",
   "nbconvert_exporter": "python",
   "pygments_lexer": "ipython3",
   "version": "3.10.10"
  }
 },
 "nbformat": 4,
 "nbformat_minor": 2
}
